{
 "cells": [
  {
   "cell_type": "markdown",
   "metadata": {},
   "source": [
    "# Week 1 - Normalization and data types\n",
    "\n",
    "This first week is going to be a warm-up week where we conider different statistical tools data types.\n",
    "\n",
    "Lets first import the libraries that we are going to need."
   ]
  },
  {
   "cell_type": "code",
   "execution_count": 1,
   "metadata": {},
   "outputs": [],
   "source": [
    "%matplotlib inline\n",
    "import matplotlib.pyplot as plt\n",
    "import numpy as np\n",
    "import scipy.stats\n",
    "import scipy as sp"
   ]
  },
  {
   "cell_type": "markdown",
   "metadata": {},
   "source": [
    "## Exercise 1: Sample statistics and normalization\n",
    "\n",
    "Let $X$ and $Y$ be two normal distributions of discrete variables with ($\\mu_X=30,\\sigma_X=7$) and ($\\mu_Y=70,\\sigma_Y=10$) that describe the *Age* and the *Weight* of a population. From $X$ and $Y$ sample the *Age* and the *Weight* of $n=500000$ individuals."
   ]
  },
  {
   "cell_type": "code",
   "execution_count": 17,
   "metadata": {},
   "outputs": [],
   "source": [
    "import numpy as np\n",
    "np.random.seed(1)\n",
    "# TODO: use np.random.normal to initialize X and Y and round() function for discretization of the data\n",
    "\n",
    "# Generer data\n",
    "n = 500000\n",
    "X = np.round(np.random.normal(loc=30, scale=7, size=n))\n",
    "Y = np.round(np.random.normal(loc=70, scale=10, size=n))"
   ]
  },
  {
   "cell_type": "markdown",
   "metadata": {},
   "source": [
    "**a)** Find the mean, the median and the mode for $X,Y$. "
   ]
  },
  {
   "cell_type": "code",
   "execution_count": 32,
   "metadata": {},
   "outputs": [
    {
     "name": "stdout",
     "output_type": "stream",
     "text": [
      "Mean: 30.007646\n",
      "Median: 30.0\n",
      "Mode: 30.0\n",
      "\n",
      "Mean: 70.002704\n",
      "Median: 70.0\n",
      "Mode: 70.0\n"
     ]
    }
   ],
   "source": [
    "# Funktion til at tælle elementer i en liste\n",
    "def count_dictionary(X):\n",
    "    \"\"\"\n",
    "    Input: certain list of data   \n",
    "    Output: counts of list elements as a dictionary \n",
    "    Example: Input: [0,1,0,2,3,2,2] => Output: {0:2, 1:1, 2:3, 3:1}\n",
    "    \"\"\"\n",
    "    unique, counts = np.unique(X, return_counts=True)\n",
    "    return dict(zip(unique, counts))\n",
    "    # TODO: the calculation process of counts\n",
    "    # We need counts also for later when we are computing the empirical PMF\n",
    "\n",
    "\n",
    "# Funktion til at beregne middelværdi (mean)\n",
    "def compute_mean(X):\n",
    "    \"\"\"\n",
    "    Input: certain list of data   \n",
    "    Output: mean of this list   \n",
    "    \"\"\"\n",
    "    #return np.mean(X)\n",
    "    return (sum(X)/len(X))\n",
    "    # TODO: the calculation process of mean\n",
    "\n",
    "\n",
    "# Funktion til at beregne median\n",
    "def compute_median(X):\n",
    "    \"\"\"\n",
    "    Input: certain list of data   \n",
    "    Output: median of this list\n",
    "    Tip: If the number of data values is odd, returns the exact middle value. \n",
    "    If the number of data values is even, returns the average of the two middle values.   \n",
    "    \"\"\"\n",
    "    return np.median(X)\n",
    "    # TODO: the calculation process of median\n",
    "\n",
    "# Funktion til at beregne typetal (mode)\n",
    "def compute_mode(X):\n",
    "    \"\"\"\n",
    "    Input: certain list of data   \n",
    "    Output: element with highest frequency \n",
    "    Hint: You can use function count_dictionary   \n",
    "    \"\"\"\n",
    "    counts = count_dictionary(X)\n",
    "    return max(counts, key=counts.get)  # Find nøglen med højeste værdi\n",
    "    # TODO: the calculation process of mode  \n",
    "\n",
    "\n",
    "\n",
    "x_mean = compute_mean(X)\n",
    "x_median = compute_median(X)\n",
    "x_mode = compute_mode(X)\n",
    "\n",
    "print(f\"Mean: {x_mean}\\nMedian: {x_median}\\nMode: {x_mode}\\n\" )\n",
    "\n",
    "y_mean = compute_mean(Y)\n",
    "y_median = compute_median(Y)\n",
    "y_mode = compute_mode(Y)\n",
    "\n",
    "print(f\"Mean: {y_mean}\\nMedian: {y_median}\\nMode: {y_mode}\" )"
   ]
  },
  {
   "cell_type": "markdown",
   "metadata": {},
   "source": [
    "**b)** Using the sampled data of a) find their:\\\n",
    "i) Probability Mass Function, ii) Expected Value and iii) Variance.  "
   ]
  },
  {
   "cell_type": "code",
   "execution_count": 33,
   "metadata": {},
   "outputs": [
    {
     "name": "stdout",
     "output_type": "stream",
     "text": [
      "\n",
      "For X:\n",
      "Expected Value of X is 30.007646\n",
      "Variance of X is 49.01916353868399\n",
      "\n",
      "For Y:\n",
      "Expected Value of Y is 70.00270400000002\n",
      "Variance of Y is 99.99015668838403\n"
     ]
    }
   ],
   "source": [
    "# In order to make our life a lot easier, we will compute the probability of each element\n",
    "# Because that will be useful for the next couple of tasks\n",
    "# NOTE: We can reuse the dictionary from earlier (Task A)\n",
    "\n",
    "\n",
    "# Funktion til at beregne PMF\n",
    "def compute_pmf(X):\n",
    "    \"\"\"\n",
    "    Input: certain list of data   \n",
    "    Output: pmf as a dictionary \n",
    "    Example: Input: [0,1,0,2,3,2,2] => Output: {0:2/7, 1:1/7, 2:3/7, 3:1/7}\n",
    "    Hint: you can use count_dictionary function from a)\n",
    "    \"\"\"\n",
    "    counts = count_dictionary(X)\n",
    "    total_count = len(X)\n",
    "    pmf = {k: v / total_count for k, v in counts.items()}\n",
    "    return pmf\n",
    "\n",
    "# Funktion til at beregne forventet værdi (EV)\n",
    "def compute_ev(X):\n",
    "    \"\"\"\n",
    "    Input: certain list of data   \n",
    "    Output: expected value of X \n",
    "    Hint: you can use compute_pmf function \n",
    "    \"\"\"\n",
    "    pmf = compute_pmf(X)\n",
    "    expected_value = sum(k * v for k, v in pmf.items())\n",
    "    return expected_value\n",
    "\n",
    "# Funktion til at beregne varians\n",
    "def compute_variance(X):  \n",
    "    \"\"\"\n",
    "    Input: certain list of data   \n",
    "    Output: variance of X \n",
    "    Hint: you can use compute_pmf and compute_ev functions\n",
    "    \"\"\"\n",
    "    ev = compute_ev(X)\n",
    "    pmf = compute_pmf(X)\n",
    "    variance = sum(((k - ev) ** 2) * v for k, v in pmf.items())\n",
    "    return variance\n",
    "\n",
    "\n",
    "    \n",
    "print(\"\\nFor X:\")\n",
    "x_pmf = compute_pmf(X)\n",
    "x_ev = compute_ev(X)\n",
    "print(f'Expected Value of X is {x_ev}')\n",
    "x_variance = compute_variance(X)\n",
    "print(f'Variance of X is {x_variance}')\n",
    "\n",
    "print(\"\\nFor Y:\")\n",
    "y_pmf = compute_pmf(Y)\n",
    "y_ev = compute_ev(Y)\n",
    "print(f'Expected Value of Y is {y_ev}')\n",
    "y_variance = compute_variance(Y)\n",
    "print(f'Variance of Y is {y_variance}')\n"
   ]
  },
  {
   "cell_type": "markdown",
   "metadata": {},
   "source": [
    "**c)** Suppose the only information we had is the sampled data $X$ and $Y$ for the *Age* and *Weight* respectively. Plot the distributions of $X$ and $Y$ and consider if the data seem to fit a normal distribution.  "
   ]
  },
  {
   "cell_type": "code",
   "execution_count": 34,
   "metadata": {},
   "outputs": [
    {
     "data": {
      "image/png": "[encoded data removed]",
      "text/plain": [
       "<Figure size 800x500 with 1 Axes>"
      ]
     },
     "metadata": {},
     "output_type": "display_data"
    },
    {
     "data": {
      "image/png": "[encoded data removed]",
      "text/plain": [
       "<Figure size 800x500 with 1 Axes>"
      ]
     },
     "metadata": {},
     "output_type": "display_data"
    }
   ],
   "source": [
    "import scipy.stats as stats\n",
    "# TODO: use plt.hist() and bins = len(np.unique()) in order to visualize the distribution\n",
    "# Funktion til at plotte distributionen\n",
    "def plot_distribution(data, title, mu, sigma):\n",
    "    \"\"\"\n",
    "    Plots the histogram of the data with an overlaid normal distribution.\n",
    "    \"\"\"\n",
    "    plt.figure(figsize=(8, 5))\n",
    "\n",
    "    # Histogram\n",
    "    bins = len(np.unique(data))\n",
    "    plt.hist(data, bins=bins, density=True, alpha=0.6, color='b', label=\"Sampled Data\")\n",
    "\n",
    "    # Teoretisk normalfordeling\n",
    "    x_range = np.linspace(min(data), max(data), 100)\n",
    "    plt.plot(x_range, stats.norm.pdf(x_range, mu, sigma), 'r-', label=\"Theoretical Normal\")\n",
    "\n",
    "    # Labels og titel\n",
    "    plt.xlabel(\"Value\")\n",
    "    plt.ylabel(\"Density\")\n",
    "    plt.title(title)\n",
    "    plt.legend()\n",
    "    plt.show()\n",
    "\n",
    "# Plot distributions for X og Y\n",
    "plot_distribution(X, \"Distribution of Age (X)\", mu=30, sigma=7)\n",
    "plot_distribution(Y, \"Distribution of Weight (Y)\", mu=70, sigma=10)"
   ]
  },
  {
   "cell_type": "markdown",
   "metadata": {},
   "source": [
    "**d)** What is the probability of observing an age of 80 or higher?  "
   ]
  },
  {
   "cell_type": "markdown",
   "metadata": {},
   "source": [
    "HINT: To calculate the probability we have to use the probability density function of normal distribution for $X$, in range $[80,\\infty)$. Calculate the sample PDF and the expected PDF given that the distribution is normal with ($\\mu_Y=70,\\sigma_Y=10$). How close are these two values?\n",
    "\n",
    "**Answer**"
   ]
  },
  {
   "cell_type": "code",
   "execution_count": 35,
   "metadata": {},
   "outputs": [
    {
     "name": "stdout",
     "output_type": "stream",
     "text": [
      "Antal værdier i Y der er > 80: 73540\n",
      "Empirical probability P(Y > 80): 0.147080\n",
      "Theoretical probability P(Y > 80): 0.158655\n",
      "Difference: 0.011575\n"
     ]
    }
   ],
   "source": [
    " # TODO: find the probability that weight is >80 (PDF), then find the expected PDF of the normal distribution (μ=70,σ=10) and compare the results\n",
    "\n",
    "# Beregn den empiriske sandsynlighed P(X > 80)\n",
    "empirical_prob = np.sum(Y > 80) / len(Y)\n",
    "\n",
    "# Beregn den teoretiske sandsynlighed fra normalfordelingen\n",
    "mu_Y = 70\n",
    "sigma_Y = 10\n",
    "theoretical_prob = 1 - stats.norm.cdf(80, loc=mu_Y, scale=sigma_Y)\n",
    "num_extreme_values = np.sum(Y > 80)\n",
    "print(f\"Antal værdier i Y der er > 80: {num_extreme_values}\")\n",
    "\n",
    "# Udskriv resultaterne\n",
    "print(f\"Empirical probability P(Y > 80): {empirical_prob:.6f}\")\n",
    "print(f\"Theoretical probability P(Y > 80): {theoretical_prob:.6f}\")\n",
    "print(f\"Difference: {abs(empirical_prob - theoretical_prob):.6f}\")"
   ]
  },
  {
   "cell_type": "markdown",
   "metadata": {},
   "source": [
    "**e)** Find the 2-dimensional mean $\\hat \\mu$ and the covariance matrix $\\widehat \\Sigma$ for these two variables.  "
   ]
  },
  {
   "cell_type": "code",
   "execution_count": 36,
   "metadata": {},
   "outputs": [
    {
     "name": "stdout",
     "output_type": "stream",
     "text": [
      "Mean:\n",
      " [30.007646 70.002704]\n",
      "Cov: \n",
      " [[ 4.90192616e+01 -8.63928476e-02]\n",
      " [-8.63928476e-02  9.99903567e+01]]\n",
      "\n",
      "Variance of X (from covariance matrix): 49.0192615772072\n",
      "Variance of Y (from covariance matrix): 99.9903566690973\n",
      "\n",
      "Variance of X (direct calculation): 49.01926157720715\n",
      "Variance of Y (direct calculation): 99.99035666909731\n"
     ]
    }
   ],
   "source": [
    "# TODO: Compute 2-Dimensional mean is the vector (E[X], E[Y])\n",
    "Z = np.c_[X, Y]\n",
    "n, d = Z.shape\n",
    "mu = compute_mean(Z)\n",
    "cov = np.cov(Z, rowvar=False)  # rowvar=False sikrer, at vi får 2x2 matrix for 2D-data\n",
    "\n",
    "# TODO: The diagonal of the Covariance matrix must equal the initial covariance values of X and Y. Check your results.\n",
    "print(\"Mean:\\n\", mu)\n",
    "print(\"Cov: \\n\", cov)\n",
    "\n",
    "# Tjek om diagonalen af kovariansmatrixen svarer til variansen af X og Y\n",
    "var_X = np.var(X, ddof=1)  # ddof=1 for unbiased estimation\n",
    "var_Y = np.var(Y, ddof=1)\n",
    "\n",
    "print(\"\\nVariance of X (from covariance matrix):\", cov[0, 0])\n",
    "print(\"Variance of Y (from covariance matrix):\", cov[1, 1])\n",
    "print(\"\\nVariance of X (direct calculation):\", var_X)\n",
    "print(\"Variance of Y (direct calculation):\", var_Y)"
   ]
  },
  {
   "cell_type": "markdown",
   "metadata": {},
   "source": [
    "**f)** Normalize the data with _range normalization_ to the range $[0, 1]$  "
   ]
  },
  {
   "cell_type": "markdown",
   "metadata": {},
   "source": [
    "**range normalization**:\n",
    "\n",
    "$x_i^{'} = \\frac{x_i-\\min_i{x_i}}{\\max_i{x_i} - \\min_i{x_i}}$"
   ]
  },
  {
   "cell_type": "code",
   "execution_count": 37,
   "metadata": {},
   "outputs": [
    {
     "name": "stdout",
     "output_type": "stream",
     "text": [
      "Original X min: -2.0, max: 63.0\n",
      "Normalized X min: 0.00, max: 1.00\n",
      "Original Y min: 26.0, max: 116.0\n",
      "Normalized Y min: 0.00, max: 1.00\n"
     ]
    }
   ],
   "source": [
    "# TODO: Compute the range normalization: (x_i - min)/(max - min)\n",
    "\n",
    "# Funktion til range normalisering\n",
    "def range_normalization(data):\n",
    "    \"\"\"\n",
    "    Normaliserer data til intervallet [0,1] ved hjælp af range normalization.\n",
    "    \"\"\"\n",
    "    return (data - np.min(data)) / (np.max(data) - np.min(data))\n",
    "\n",
    "# Normaliser X og Y\n",
    "X_norm = range_normalization(X)\n",
    "Y_norm = range_normalization(Y)\n",
    "\n",
    "# Tjek resultaterne\n",
    "print(f\"Original X min: {np.min(X)}, max: {np.max(X)}\")\n",
    "print(f\"Normalized X min: {np.min(X_norm):.2f}, max: {np.max(X_norm):.2f}\")\n",
    "\n",
    "print(f\"Original Y min: {np.min(Y)}, max: {np.max(Y)}\")\n",
    "print(f\"Normalized Y min: {np.min(Y_norm):.2f}, max: {np.max(Y_norm):.2f}\")"
   ]
  },
  {
   "cell_type": "markdown",
   "metadata": {},
   "source": [
    "**g)** Normalize the data with _standard score normalization_ such that is has mean 0 and standard deviation 1.  "
   ]
  },
  {
   "cell_type": "markdown",
   "metadata": {},
   "source": [
    "**z-score**:\n",
    "\n",
    "$x_i^{'} = \\frac{x_i-\\hat{\\mu}}{\\hat{\\sigma}}$"
   ]
  },
  {
   "cell_type": "code",
   "execution_count": 38,
   "metadata": {},
   "outputs": [
    {
     "name": "stdout",
     "output_type": "stream",
     "text": [
      "Original X mean: 30.01, std: 7.00\n",
      "Normalized X mean: -0.00, std: 0.14\n",
      "Original Y mean: 70.00, std: 10.00\n",
      "Normalized Y mean: 0.00, std: 0.10\n"
     ]
    }
   ],
   "source": [
    "# TODO: #  Compute the standard score normalization:, x_i = (x_i - mu)/(sigma)\n",
    "def standard_score_normalization(data):\n",
    "    return ((data-compute_mean(data))/compute_variance(data))\n",
    "\n",
    "X_standnorm = standard_score_normalization(X)\n",
    "Y_standnorm = standard_score_normalization(Y)\n",
    "\n",
    "# Tjek resultaterne\n",
    "print(f\"Original X mean: {np.mean(X):.2f}, std: {np.std(X):.2f}\")\n",
    "print(f\"Normalized X mean: {np.mean(X_standnorm):.2f}, std: {np.std(X_standnorm):.2f}\")\n",
    "\n",
    "print(f\"Original Y mean: {np.mean(Y):.2f}, std: {np.std(Y):.2f}\")\n",
    "print(f\"Normalized Y mean: {np.mean(Y_standnorm):.2f}, std: {np.std(Y_standnorm):.2f}\")"
   ]
  },
  {
   "cell_type": "markdown",
   "metadata": {},
   "source": [
    "## Exercise 2: Robustness\n",
    "Determine whether the following statements are true or false and explain why.\n",
    " - Mean is robust against outliers\n",
    " - Median is robust against outliers\n",
    " - Standard deviation is robust against outliers\n"
   ]
  },
  {
   "cell_type": "markdown",
   "metadata": {},
   "source": [
    "**Answer:**\n",
    "\n",
    "1: FALSE\n",
    "Mean is not robust against outliers, since it is calculated by summing all values and dividing by the number of obsevations. \n",
    "If there is one or more extreme values (outliers), they will have a big impact on the mean. \n",
    "Outliers will pull the mean in their direction. \n",
    "\n",
    "2: TRUE\n",
    "Median is robust against outliers, since it only depens on the middle value in the dataset when sorted. Outliers will not effect the median significantly, since it does not change the placement of the central values. \n",
    "\n",
    "3: FALSE\n",
    "Standard deviation is not robust against outliers, since it measures the spread of data relative to the mean. Outliers shift the mean and increase variability, leading to a significant increase in standard deviation."
   ]
  },
  {
   "cell_type": "markdown",
   "metadata": {},
   "source": [
    "## Exercise 3: More on robustness\n",
    "Provide an informal definition of when a measure is robust. "
   ]
  },
  {
   "cell_type": "markdown",
   "metadata": {},
   "source": [
    "**Answer:**\n",
    "\n",
    "A measure is considered robust if it is not significantly affected by extreme values (outliers) or small deviations in the dataset.\n",
    "In other words, if a few unusually large or small values appear in the data, a robust measure will still give a meaningful and reliable result without being distorted."
   ]
  },
  {
   "cell_type": "markdown",
   "metadata": {},
   "source": [
    "## Exercise 4: Independence analysis\n",
    "Please explain what the idea of independence analysis is using contingency tables; for which kind of data is this particularly relevant? \n"
   ]
  },
  {
   "cell_type": "markdown",
   "metadata": {},
   "source": [
    "**Answer:**\n",
    "\n",
    "Independence analysis is a method used to determine whether two categorical variables are statistically independent, meaning that the presence of one variable does not affect the distribution of the other.\n",
    "To test this, we often use a contingency table (cross-tabulation table), which summarizes the frequency of occurrences of different combinations of two categorical variables.\n",
    "\n",
    "To formally test independence, we can use chi-square tests to compare the observed values with expected values under the assumption of independence.\n",
    "\n",
    "When is Independence Analysis Useful?\n",
    "This type of analysis is particularly useful when dealing with categorical data, such as: \n",
    "- Medical studies – Is there a relationship between a treatment and recovery rates?\n",
    "- Social sciences – Are gender and voting preferences independent?\n",
    "- Marketing – Does age influence a customer’s preferred product category?\n",
    "- Biology – Is there an association between genetic traits and disease prevalence?\n",
    "\n",
    "So:\n",
    "- Independence analysis helps determine whether two categorical variables are statistically related.\n",
    "- Contingency tables summarize the frequencies of categorical variables.\n",
    "- Chi-square tests are commonly used to check for independence.\n",
    "- This analysis is crucial in medicine, social sciences, marketing, and more.\n"
   ]
  },
  {
   "cell_type": "markdown",
   "metadata": {},
   "source": [
    "## Exercise 5: Contingency table and $\\chi^2$ statistics\n",
    "In the table below,  assuming that $X_1$ is discretized into three bins, as follows: $[-2, -0.5]$, $[-0.5, 0.5]$, and $[0.5, 2]$.\n",
    "\n",
    "KIG HER pÅ GITHUB FOR BILLEDET\n",
    "Answer the following questions\n",
    "\n",
    "**a)** Construct the contingency table between the discretized $X_1$ and $X_2$ attributes, including the row and column counts.<br>\n",
    "**b)** Construct the expected table between the discretized $X_1$ and $X_2$ attributes.<br>\n",
    "**c)** Compute the $\\chi^2$ statistic between them.<br>\n",
    "**d)** Determine whether they are dependent or not at the 5% significance level. Use the $\\chi^2$ critical values from Table 3.10.\n",
    "\n",
    "KIG HER pÅ GITHUB FOR BILLEDET"
   ]
  },
  {
   "cell_type": "markdown",
   "metadata": {},
   "source": [
    "**Answer:**\n",
    "**a)**"
   ]
  },
  {
   "cell_type": "code",
   "execution_count": 46,
   "metadata": {},
   "outputs": [
    {
     "name": "stdout",
     "output_type": "stream",
     "text": [
      "[[2, 1], [4, 1], [0, 2]]\n",
      "Our table before row counts: [[2, 1, 3], [4, 1, 5], [0, 2, 2], [6, 4, 10]]\n"
     ]
    }
   ],
   "source": [
    "X_1 = [0.3, -0.3, 0.44, -0.60, 0.40, 1.20, -0.12, -1.60, 1.60, -1.32]\n",
    "X_2 = [\"a\", \"b\", \"a\", \"a\", \"a\", \"b\", \"a\", \"b\", \"b\", \"a\"]\n",
    "# For sanity's sake, use code to bin X_1\n",
    "# Converting everything to numbers allow us to index in them for easier computation\n",
    "X_tmp = []\n",
    "for x in X_1:\n",
    "    if x >= -2 and x <= -0.5:\n",
    "        X_tmp.append(0)\n",
    "    elif x >= -0.5 and x <= 0.5:\n",
    "            X_tmp.append(1)\n",
    "    elif x > 0.5:\n",
    "            X_tmp.append(2)\n",
    "X_1 = X_tmp\n",
    "X_2 = [0 if x == \"a\" else 1 for x in X_2]\n",
    "\n",
    "\n",
    "# Our table looks like\n",
    "## Bins: a b\n",
    "## bin1\n",
    "## bin2\n",
    "## bin3\n",
    "b1_row = [0, 0]\n",
    "b2_row = [0, 0]\n",
    "b3_row = [0, 0]\n",
    "count_row = [0, 0, 0] # THIS ONE is for column counts\n",
    "c_table = [b1_row, b2_row, b3_row]\n",
    "# TODO: Compute contingency table c_table \n",
    "\n",
    "# Beregn kontingenstabellen\n",
    "for i in range(len(X_1)):\n",
    "    c_table[X_1[i]][X_2[i]] += 1\n",
    "\n",
    "\n",
    "# Beregn totaler for rækker og kolonner\n",
    "count_row = [sum(row) for row in c_table]  # Summer rækker\n",
    "col_totals = [sum(col) for col in zip(*c_table)]  # Summer kolonner\n",
    "\n",
    "# Tilføj række totaler til tabellen\n",
    "for i in range(len(c_table)):\n",
    "    c_table[i].append(count_row[i])\n",
    "\n",
    "# Tilføj kolonne totaler og total sum\n",
    "c_table.append(col_totals + [sum(count_row)])\n",
    "\n",
    "print(f\"Our table before row counts: {c_table}\")   "
   ]
  },
  {
   "cell_type": "markdown",
   "metadata": {},
   "source": [
    "\n",
    "**Answer:**\n",
    "**b)**"
   ]
  },
  {
   "cell_type": "code",
   "execution_count": 47,
   "metadata": {},
   "outputs": [
    {
     "name": "stdout",
     "output_type": "stream",
     "text": [
      "The expected table is: [[3.6, 2.4], [6.0, 4.0], [2.4, 1.6]]\n"
     ]
    }
   ],
   "source": [
    "# Now add row counts\n",
    "# Remember these are reference variables, so modifying these\n",
    "# will also modify our table\n",
    "\n",
    "# TODO: Compute expected table\n",
    "E = [[0, 0] for _ in range(3)]\n",
    "\n",
    "# Beregn totaler\n",
    "row_totals = [sum(row) for row in c_table[:-1]]  # Række-totaler (uden sidste række, som er kolonne-summer)\n",
    "col_totals = c_table[-1][:-1]  # Kolonne-totaler (uden sidste kolonne, som er totalen)\n",
    "grand_total = c_table[-1][-1]  # Total sum\n",
    "\n",
    "# Beregn forventede værdier\n",
    "for i in range(3):  # Tre bins\n",
    "    for j in range(2):  # To kategorier i X_2 (\"a\" og \"b\")\n",
    "        E[i][j] = (row_totals[i] * col_totals[j]) / grand_total\n",
    "\n",
    "print(f\"The expected table is: {E}\")"
   ]
  },
  {
   "cell_type": "markdown",
   "metadata": {},
   "source": [
    "**Answer:**\n",
    "**c)**\n",
    "\n"
   ]
  },
  {
   "cell_type": "code",
   "execution_count": 48,
   "metadata": {},
   "outputs": [
    {
     "name": "stdout",
     "output_type": "stream",
     "text": [
      "Chi_squared is: 6.944444444444445\n"
     ]
    }
   ],
   "source": [
    "# TODO: Compute Chi_squared\n",
    "Chi_squared = 0\n",
    "for i in range(3):  # Tre bins\n",
    "    for j in range(2):  # To kategorier i X_2 (\"a\" og \"b\")\n",
    "        if E[i][j] != 0:  # Undgå division med nul\n",
    "            Chi_squared += ((c_table[i][j] - E[i][j]) ** 2) / E[i][j]\n",
    "\n",
    "print(f\"Chi_squared is: {Chi_squared}\")\n"
   ]
  },
  {
   "cell_type": "markdown",
   "metadata": {},
   "source": [
    "**Answer:**\n",
    "**d)**"
   ]
  },
  {
   "cell_type": "code",
   "execution_count": 49,
   "metadata": {},
   "outputs": [
    {
     "name": "stdout",
     "output_type": "stream",
     "text": [
      "\n",
      "Reject the null hypothesis: X1 and X2 are dependent (Chi_squared=6.944444444444445 > 5.991).\n"
     ]
    }
   ],
   "source": [
    "# Kritisk værdi for df=2 og alpha=0.05\n",
    "critical_value = 5.991 \n",
    "#findes udfra df=(antal rækker - 1) x (antal kolonner - 1)\n",
    "# dette giver (3-1)*(2-1)=2\n",
    "# Herefter kan man bruge tabellen i github til at se critical value for df=2 og signifikansniveau = 0.05\n",
    "\n",
    "# Sammenlign med Chi-squared statistikken\n",
    "if Chi_squared > critical_value:\n",
    "    print(f\"\\nReject the null hypothesis: X1 and X2 are dependent (Chi_squared={Chi_squared} > {critical_value}).\")\n",
    "else:\n",
    "    print(f\"\\nFail to reject the null hypothesis: No significant dependency between X1 and X2 (Chi_squared={Chi_squared} <= {critical_value}).\")"
   ]
  },
  {
   "cell_type": "code",
   "execution_count": null,
   "metadata": {},
   "outputs": [],
   "source": []
  },
  {
   "cell_type": "markdown",
   "metadata": {},
   "source": [
    "## Exercise 6: Working with Metrics\n",
    "\n",
    "Consider the following situation: \n",
    "\n",
    "We know some distances between data points: $d(p_1,p_2)=1$, $d(p_1,p_3)=2$, $d(p_3, p_4)=1$. \n",
    "We also know that $d$ is a metric. \n",
    "\n",
    "1. What do we know about the remaining distances?\n",
    "2. Do we need to compute further distances if we want to find the two points that are most similar to $p_1$? \n",
    "3. Can $p_4$ be closer to $p_2$ than $p_3$ is to $p_2$?\n",
    "\n",
    "\n",
    "\n",
    "\n"
   ]
  },
  {
   "cell_type": "markdown",
   "metadata": {},
   "source": [
    "**Answers:**\n",
    "We are given some distances between points and know that $d$ is a metric, meaning it satisfies the following properties:\n",
    "1. Non-negativity: $d(x,y) \\geq 0$\n",
    "2. Identity of indiscernibles: $d(x,y)=0$ if and only if $x=y$\n",
    "3. Symmetry: $d(x,y)=d(y,x)$\n",
    "4. Triangle inequality: $d(x,y) \\leq d(x,z) + d(z,y)$"
   ]
  },
  {
   "cell_type": "markdown",
   "metadata": {},
   "source": [
    "A. Using the symmetri property, we immediately get:\n",
    "\n",
    " $d(p_2,p_1)=1, d(p_3,p_1)=2, d(p_4,p_3)=1$\n",
    "  \n",
    "For other distances, we can apply the triangle inequality for example:\n",
    "  \n",
    "bound for $d(p_1,p_4)$:\n",
    "      \n",
    "$d(p_1,p_4) \\leq d(p_1,p_3)+d(p_3,p_4) = 2 + 1 =3$\n",
    "$d(p_1,p_4) \\geq |d(p_1,p_3)-d(p_3,p_4)| = |2 - 1| =1$\n",
    "         \n",
    "so $1 \\leq d(p_1,p_4) \\leq 3$\n",
    "\n",
    "bound for $d(p_2,p_3)$:\n",
    "        \n",
    "$d(p_2,p_3) \\leq d(p_2,p_1)+d(p_1,p_3) = 1 + 2 =3$         \n",
    "$d(p_2,p_3) \\geq |d(p_2,p_1)-d(p_1,p_3)| = |1 - 2| =1$\n",
    "        \n",
    "so $1 \\leq d(p_2,p_3) \\leq 3$\n",
    "  \n",
    "bound for $d(p_2,p_4)$:\n",
    "        \n",
    "$d(p_2,p_4) \\leq d(p_2,p_1)+d(p_1,p_4) = 1 + 3 =4$\n",
    "$d(p_2,p_4) \\geq |d(p_2,p_1)-d(p_1,p_4)| = |1 - 1| =1$\n",
    "        \n",
    "so $0 \\leq d(p_2,p_4) \\leq 4$"
   ]
  },
  {
   "cell_type": "markdown",
   "metadata": {},
   "source": [
    "    \n",
    "B.   "
   ]
  },
  {
   "cell_type": "markdown",
   "metadata": {},
   "source": [
    "# Optional Exercises\n",
    "\n",
    "## Exercise 7: Mean absolute deviation \n",
    "Define a measure of deviation called _mean absolute deviation_ for a random variable $X$ as follows:\n",
    "\n",
    "$$\n",
    "\\frac{1}{n} \\sum_{i=1}^n |x_i - \\mu|\n",
    "$$\n",
    "\n",
    "Is this measure robust? Why or why not?"
   ]
  },
  {
   "cell_type": "markdown",
   "metadata": {},
   "source": [
    "**Answer:**\n",
    "\n",
    "The mean absolute deviation (MAD) is a measure of dispersion that quantifies the average absolute deviation of each data point from the mean. To determine whether it is robust, we need to consider its sensitivity to outliers.\n",
    "Robustness of Mean Absolute Deviation (MAD)\n",
    "- MAD is more robust than variance or standard deviation because it uses absolute differences instead of squaring deviations, which reduces the influence of extreme values.\n",
    "- However, MAD is still not fully robust because it is based on the mean ($\\mu$), which is itself sensitive to outliers. If an extreme value shifts the mean, it will also affect MAD.\n",
    "- A more robust alternative is the median absolute deviation (MAD-Median), which uses the median instead of the mean and is less affected by extreme values.\n",
    "\n",
    "Therefore:\n",
    "- Not completely robust: While MAD reduces the impact of outliers compared to variance, it is still influenced by them.\n",
    "- Better than variance: Since it does not square the deviations, extreme values have a less exaggerated effect.\n",
    "- Alternative for robustness: The median absolute deviation (MAD-Median) is a more robust measure of dispersion."
   ]
  },
  {
   "cell_type": "markdown",
   "metadata": {},
   "source": [
    "## Exercise 8: Correlation\n",
    "\n",
    "Consider the table below. Assume that both the attributes $X$ and $Y$ are numeric, and the\n",
    "table represents the entire population. And we know that the correlation between $X$\n",
    "and $Y$ is zero.\n",
    "1. What can you infer about the values of $Y$? (Find a relationship between $a$, $b$ and $c$)\n",
    "2. If we know there is a missing row, what can we infer about it?\n",
    "\n",
    "|$X$ | $Y$ |\n",
    "|:---:|:---:|\n",
    "|$1$|$a$|\n",
    "|$0$|$b$|\n",
    "|$1$|$c$|\n",
    "|$0$|$a$|\n",
    "|$0$|$c$|"
   ]
  },
  {
   "cell_type": "markdown",
   "metadata": {},
   "source": [
    "**Answer**\n",
    "\n",
    "    1. \n",
    "\n",
    "\n",
    "    2.\n"
   ]
  },
  {
   "cell_type": "markdown",
   "metadata": {},
   "source": [
    "# Exercise 9: 3-way contingency table\n",
    "\n",
    "Consider the 3-way contingency table for attributes $X$,$Y$,$Z$ shown in the table below.\n",
    "Compute the $\\chi^2$ metric for the correlation between $Y$ and $Z$. Are they dependent\n",
    "or independent at the 95% confidence level? See Table 3.10 above for $\\chi^2$ values.\n",
    "\n",
    "KIG HER pÅ GITHUB FOR BILLEDET"
   ]
  },
  {
   "cell_type": "code",
   "execution_count": 50,
   "metadata": {},
   "outputs": [],
   "source": [
    "import scipy.stats.contingency\n",
    "from scipy.stats import chi2_contingency\n",
    "# TODO: Compute contingency using chi2_contingency\n",
    "xy = np.array([[40,25],[40,35]])"
   ]
  },
  {
   "attachments": {},
   "cell_type": "markdown",
   "metadata": {},
   "source": [
    "# Exercise 10: Mixed data\n",
    "\n",
    "Consider the \"mixed\" data given in the table below. Here $X_1$ is a numeric attribute and\n",
    "$X_2$ is a categorical one. Assume that the domain of $X_2$ is given as $dom(X_2) = \\{a, b\\}$.\n",
    "Answer the following questions.\n",
    "\n",
    "**a)** What is the mean vector for this dataset?  \n",
    "**b)** What is the covariance matrix?  \n",
    "\n",
    "KIG HER pÅ GITHUB FOR BILLEDET\n",
    "\n"
   ]
  },
  {
   "cell_type": "code",
   "execution_count": 51,
   "metadata": {},
   "outputs": [
    {
     "name": "stdout",
     "output_type": "stream",
     "text": [
      "mean vector:\n",
      " None\n"
     ]
    }
   ],
   "source": [
    "fine = np.array([[0.3,1,0],[-0.3,0,1],[0.44,1,0],[-0.6,1,0],[0.4,1,0],[1.2,0,1],[-0.12,1,0],[-0.16,0,1],[1.6,0,1],[-1.32,1,0]])\n",
    "# TODO: compute the mean vector\n",
    "mu = None\n",
    "print(\"mean vector:\\n\", mu)"
   ]
  },
  {
   "cell_type": "code",
   "execution_count": 52,
   "metadata": {},
   "outputs": [
    {
     "name": "stdout",
     "output_type": "stream",
     "text": [
      "Cov: None\n"
     ]
    }
   ],
   "source": [
    "n, d = fine.shape\n",
    "# TODO: compute the covariance matrix\n",
    "cov = None\n",
    "\n",
    "print(f\"Cov: {cov}\")"
   ]
  }
 ],
 "metadata": {
  "kernelspec": {
   "display_name": "Python 3",
   "language": "python",
   "name": "python3"
  },
  "language_info": {
   "codemirror_mode": {
    "name": "ipython",
    "version": 3
   },
   "file_extension": ".py",
   "mimetype": "text/x-python",
   "name": "python",
   "nbconvert_exporter": "python",
   "pygments_lexer": "ipython3",
   "version": "3.10.11"
  }
 },
 "nbformat": 4,
 "nbformat_minor": 4
}
